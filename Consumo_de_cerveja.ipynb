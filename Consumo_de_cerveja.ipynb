{
  "nbformat": 4,
  "nbformat_minor": 0,
  "metadata": {
    "colab": {
      "name": "Consumo de cerveja.ipynb",
      "provenance": [],
      "mount_file_id": "1PwwFPKZ397okEbuqSpgtKHBaqKVWS08U",
      "authorship_tag": "ABX9TyPz3l2gLCe6AkZ7aIOUuVtM",
      "include_colab_link": true
    },
    "kernelspec": {
      "name": "python3",
      "display_name": "Python 3"
    },
    "language_info": {
      "name": "python"
    },
    "accelerator": "GPU"
  },
  "cells": [
    {
      "cell_type": "markdown",
      "metadata": {
        "id": "view-in-github",
        "colab_type": "text"
      },
      "source": [
        "<a href=\"https://colab.research.google.com/github/tuanymariiah/data_analysis/blob/main/Consumo_de_cerveja.ipynb\" target=\"_parent\"><img src=\"https://colab.research.google.com/assets/colab-badge.svg\" alt=\"Open In Colab\"/></a>"
      ]
    },
    {
      "cell_type": "markdown",
      "metadata": {
        "id": "wv-hkFKdJ7uO"
      },
      "source": [
        "A cerveja é uma das bebidas mais consumidas no Brasil e no mundo, estando sempre presentes em confraternizações, happy hour, e em diferentes situações.\n",
        "Mas, qual o país que mais consome cerveja no mundo? E a nível de Brasil, em qual ano houve um aumento considerável no consumo desta bebida?\n",
        "É comum acharmos que a Alemanha é o país que mais consome cerveja no mundo, devido ao seu surgimento, mas infelizmente não é. A China é o país que mais consome com 27%, seguido pelos Estados Unidos com 13% e em 3º lugar está o Brasil com 7%. \n",
        "No Brasil, um dos dos estados que consome cerveja é o estado de São Paulo com 37%, ocupando o primeiro lugar do ranking nacional. O número de vendas de cerveja no Brasil em 2020 foi maior do que em  2014, quando ocorreu a copa do mundo. \n",
        "\n",
        "O dataset foi coletado no período de um ano, 01/01/2015 a 31/05/2015, no estado de São Paulo, em uma área universitária, um local onde ocorrem festas com alunos entre 18 a 28 anos. Este dataset pode ser encontrado no kaggle."
      ]
    },
    {
      "cell_type": "code",
      "metadata": {
        "id": "r-oH8wGMlfx-"
      },
      "source": [
        "import pandas as pd\n",
        "import numpy as np\n",
        "import seaborn as sns\n",
        "import matplotlib.pyplot as plt\n",
        "from sklearn.preprocessing import MinMaxScaler\n",
        "from sklearn.preprocessing import StandardScaler\n",
        "from sklearn.model_selection import train_test_split\n",
        "from sklearn.linear_model import ElasticNet, LinearRegression\n",
        "from sklearn.model_selection import cross_val_score\n",
        "from sklearn.model_selection import RepeatedKFold\n",
        "from sklearn.model_selection import GridSearchCV\n",
        "from sklearn.metrics import mean_absolute_error\n",
        "from sklearn.metrics import mean_squared_error\n",
        "from sklearn.metrics import r2_score\n",
        "sns.set()\n"
      ],
      "execution_count": 24,
      "outputs": []
    },
    {
      "cell_type": "code",
      "metadata": {
        "id": "rdh208ThlrvS"
      },
      "source": [
        "file = '/content/drive/MyDrive/Projetos Pessoais/Portifólio/P[03] - consumo de cerveja -sao paulo/Consumo_cerveja.csv'\n",
        "#file = 'https://raw.githubusercontent.com/tuanymariiah/data_analysis/main/Bases/Consumo_cerveja.csv?token=AG2B7L7OXCU33OBQDRA36C3BCFIG4'\n",
        "base_beer = pd.read_csv(file)"
      ],
      "execution_count": 25,
      "outputs": []
    },
    {
      "cell_type": "markdown",
      "metadata": {
        "id": "BeQu_iwdnqIq"
      },
      "source": [
        "Este dataset possui os seguintes atributos\n",
        "* Data - data da coleta                    \n",
        "* Temperatura Media (C) - temperatura média daquele dia  \n",
        "* Temperatura Minima (C) - temperatura mínima daquele dia\n",
        "* Temperatura Maxima (C) - temperatura máxima daquele dia        \n",
        "* Precipitacao (mm) - quanto que choveu em milímetros\n",
        "* Final de Semana - marca 0 ou 1 se aquela data cai em um final de semana               \n",
        "* Consumo de cerveja (litros) - variável de saída"
      ]
    },
    {
      "cell_type": "markdown",
      "metadata": {
        "id": "HY4z2FsSmMnn"
      },
      "source": [
        "verificacao de valores ausentes\n"
      ]
    },
    {
      "cell_type": "code",
      "metadata": {
        "colab": {
          "base_uri": "https://localhost:8080/"
        },
        "id": "yj-7LLEbmRuZ",
        "outputId": "2af56e1d-2b5f-4b08-8fdf-d6fddf92533d"
      },
      "source": [
        "base_beer.isna().sum()"
      ],
      "execution_count": 26,
      "outputs": [
        {
          "output_type": "execute_result",
          "data": {
            "text/plain": [
              "Data                           576\n",
              "Temperatura Media (C)          576\n",
              "Temperatura Minima (C)         576\n",
              "Temperatura Maxima (C)         576\n",
              "Precipitacao (mm)              576\n",
              "Final de Semana                576\n",
              "Consumo de cerveja (litros)    576\n",
              "dtype: int64"
            ]
          },
          "metadata": {
            "tags": []
          },
          "execution_count": 26
        }
      ]
    },
    {
      "cell_type": "markdown",
      "metadata": {
        "id": "TxqVXmXbnhLm"
      },
      "source": [
        "exclusao dos valores ausentes"
      ]
    },
    {
      "cell_type": "code",
      "metadata": {
        "colab": {
          "base_uri": "https://localhost:8080/"
        },
        "id": "2krNXpmDmPvy",
        "outputId": "4c53b230-dd15-4844-b35a-0e795fbefbb8"
      },
      "source": [
        "base_beer=base_beer.dropna()\n",
        "base_beer.isna().sum()"
      ],
      "execution_count": 27,
      "outputs": [
        {
          "output_type": "execute_result",
          "data": {
            "text/plain": [
              "Data                           0\n",
              "Temperatura Media (C)          0\n",
              "Temperatura Minima (C)         0\n",
              "Temperatura Maxima (C)         0\n",
              "Precipitacao (mm)              0\n",
              "Final de Semana                0\n",
              "Consumo de cerveja (litros)    0\n",
              "dtype: int64"
            ]
          },
          "metadata": {
            "tags": []
          },
          "execution_count": 27
        }
      ]
    },
    {
      "cell_type": "markdown",
      "metadata": {
        "id": "_R79Pg61w1X3"
      },
      "source": [
        "Para uma análise exploratória dos dados tracei algumas coisas interessantes a se observar:\n",
        "* Qual dia da semana houve um consumo maior?\n",
        "* Qual data houve um consumo maior?\n",
        "* Qual dia da semana houve um consumo menor?\n",
        "* Qual data houve um consumo menor?\n",
        "* Era um dia útil, final de semana ou feriado quando ocorreu um consumo maior?\n",
        "* Em qual mês houve um consumo maior ?\n",
        "* Em qual mês houve um consumo menor ?\n",
        "* Em qual temperatura houve um consumo maior de temperatura?\n",
        "* A correlacao do consumo de cerveja e os demais atributos"
      ]
    },
    {
      "cell_type": "markdown",
      "metadata": {
        "id": "SHeoL8o1Y_fi"
      },
      "source": [
        "Para que possamos fazer a análise explorativa dos dados, a partir da data, será necessário converter a data que está em string para *datatime*"
      ]
    },
    {
      "cell_type": "code",
      "metadata": {
        "id": "yZjVNv0jZF0j"
      },
      "source": [
        "base_beer['Data'] = pd.to_datetime(base_beer['Data'])\n",
        "base_beer['Mes'] = base_beer['Data'].dt.month \n",
        "base_beer['Mes str'] = base_beer['Mes'].astype(str).replace({'1': 'Janeiro','2': 'Fevereiro','3': 'Março','4': 'Abril','5': 'Maio','6': 'Junho','7': 'Julho'})\n",
        "base_beer['Dia'] = base_beer['Data'].dt.dayofweek \n",
        "base_beer['Dia'] = base_beer['Dia'].astype(str).replace({'0': 'Seg','1': 'Ter','2': 'Qua','3': 'Qui','4': 'Sex','5': 'Sáb','6': 'Dom'})"
      ],
      "execution_count": 28,
      "outputs": []
    },
    {
      "cell_type": "markdown",
      "metadata": {
        "id": "wOwd-1MlYRmA"
      },
      "source": [
        "Uma vez que já identificamos o dia da semana e mes, agora será necessário identificar os feriados, para isso, localizei todos os feriados nacionais e locais da cidade neste respectivo site https://www.feriados.com.br/2015"
      ]
    },
    {
      "cell_type": "code",
      "metadata": {
        "id": "NrFpPSgf_o7y"
      },
      "source": [
        "def acharferiado(registro):\n",
        "    if registro['Data'] == pd.to_datetime('2015-01-01'):\n",
        "      return 1\n",
        "    elif registro['Data']== pd.to_datetime('2015-01-25'):\n",
        "      return 1\n",
        "    elif registro['Data']== pd.to_datetime('2015-02-16'):\n",
        "      return 1\n",
        "    elif registro['Data']== pd.to_datetime('2015-01-17'):\n",
        "      return 1\n",
        "    elif registro['Data']== pd.to_datetime('2015-01-18'):\n",
        "      return 1\n",
        "    elif registro['Data']== pd.to_datetime('2015-04-03'):\n",
        "      return 1\n",
        "    elif registro['Data']== pd.to_datetime('2015-04-21'):\n",
        "      return 1\n",
        "    elif registro['Data']== pd.to_datetime('2015-05-01'):\n",
        "      return 1\n",
        "    elif registro['Data']== pd.to_datetime('2015-06-04'):\n",
        "      return 1\n",
        "    elif registro['Data']== pd.to_datetime('2015-07-09'):\n",
        "      return 1\n",
        "    elif registro['Data']== pd.to_datetime('2015-09-07'):\n",
        "      return 1\n",
        "    elif registro['Data']== pd.to_datetime('2015-10-12'):\n",
        "      return 1\n",
        "    elif registro['Data']== pd.to_datetime('2015-10-15'):\n",
        "      return 1\n",
        "    elif registro['Data']== pd.to_datetime('2015-10-28'):\n",
        "      return 1\n",
        "    elif registro['Data']== pd.to_datetime('2015-11-02'):\n",
        "      return 1\n",
        "    elif registro['Data']== pd.to_datetime('2015-11-15'):\n",
        "      return 1\n",
        "    elif registro['Data']== pd.to_datetime('2015-11-20'):\n",
        "      return 1\n",
        "    elif registro['Data']== pd.to_datetime('2015-12-25'):\n",
        "      return 1\n",
        "    else:\n",
        "      return 0\n",
        "base_beer['Feriado'] = base_beer.apply(acharferiado, axis=1)\n"
      ],
      "execution_count": 29,
      "outputs": []
    },
    {
      "cell_type": "markdown",
      "metadata": {
        "id": "M6MLsI9pZ0H9"
      },
      "source": [
        "## 1. Qual dia da semana houve um consumo maior de cerveja?"
      ]
    },
    {
      "cell_type": "code",
      "metadata": {
        "colab": {
          "base_uri": "https://localhost:8080/",
          "height": 0
        },
        "id": "rC3zi1YiJ5EN",
        "outputId": "ead528bc-40da-49af-ecb6-3ffc76cecc71"
      },
      "source": [
        "consumo_dia = ['Dia', 'Consumo de cerveja (litros)']\n",
        "diaconsumo = base_beer[consumo_dia].groupby('Dia', sort= True).sum()\n",
        "diaconsumo#.plot(kind='bar', legend=True);\n"
      ],
      "execution_count": 30,
      "outputs": [
        {
          "output_type": "execute_result",
          "data": {
            "text/html": [
              "<div>\n",
              "<style scoped>\n",
              "    .dataframe tbody tr th:only-of-type {\n",
              "        vertical-align: middle;\n",
              "    }\n",
              "\n",
              "    .dataframe tbody tr th {\n",
              "        vertical-align: top;\n",
              "    }\n",
              "\n",
              "    .dataframe thead th {\n",
              "        text-align: right;\n",
              "    }\n",
              "</style>\n",
              "<table border=\"1\" class=\"dataframe\">\n",
              "  <thead>\n",
              "    <tr style=\"text-align: right;\">\n",
              "      <th></th>\n",
              "      <th>Consumo de cerveja (litros)</th>\n",
              "    </tr>\n",
              "    <tr>\n",
              "      <th>Dia</th>\n",
              "      <th></th>\n",
              "    </tr>\n",
              "  </thead>\n",
              "  <tbody>\n",
              "    <tr>\n",
              "      <th>Dom</th>\n",
              "      <td>1508.391</td>\n",
              "    </tr>\n",
              "    <tr>\n",
              "      <th>Qua</th>\n",
              "      <td>1238.140</td>\n",
              "    </tr>\n",
              "    <tr>\n",
              "      <th>Qui</th>\n",
              "      <td>1276.057</td>\n",
              "    </tr>\n",
              "    <tr>\n",
              "      <th>Seg</th>\n",
              "      <td>1227.701</td>\n",
              "    </tr>\n",
              "    <tr>\n",
              "      <th>Sex</th>\n",
              "      <td>1255.170</td>\n",
              "    </tr>\n",
              "    <tr>\n",
              "      <th>Sáb</th>\n",
              "      <td>1499.572</td>\n",
              "    </tr>\n",
              "    <tr>\n",
              "      <th>Ter</th>\n",
              "      <td>1266.468</td>\n",
              "    </tr>\n",
              "  </tbody>\n",
              "</table>\n",
              "</div>"
            ],
            "text/plain": [
              "     Consumo de cerveja (litros)\n",
              "Dia                             \n",
              "Dom                     1508.391\n",
              "Qua                     1238.140\n",
              "Qui                     1276.057\n",
              "Seg                     1227.701\n",
              "Sex                     1255.170\n",
              "Sáb                     1499.572\n",
              "Ter                     1266.468"
            ]
          },
          "metadata": {
            "tags": []
          },
          "execution_count": 30
        }
      ]
    },
    {
      "cell_type": "markdown",
      "metadata": {
        "id": "bZ57tOJkT3aV"
      },
      "source": [
        "Para sabermos qual dia da semana em que se consome mais cerveja na cidade de SP, foi necessário somar o consumo diário, com isso podemos ver que o dia em que mais se consome cerveja, é aos finais de semana, sábado e domingo"
      ]
    },
    {
      "cell_type": "markdown",
      "metadata": {
        "id": "hJ3H7tjvr_to"
      },
      "source": [
        "## 2. Qual data houve um consumo maior"
      ]
    },
    {
      "cell_type": "code",
      "metadata": {
        "colab": {
          "base_uri": "https://localhost:8080/",
          "height": 0
        },
        "id": "PV5orHfRBmve",
        "outputId": "1efbf34f-0e7f-41c5-b421-57bcad5b6f2f"
      },
      "source": [
        "base_beer[base_beer['Consumo de cerveja (litros)']==base_beer['Consumo de cerveja (litros)'].max()]"
      ],
      "execution_count": 31,
      "outputs": [
        {
          "output_type": "execute_result",
          "data": {
            "text/html": [
              "<div>\n",
              "<style scoped>\n",
              "    .dataframe tbody tr th:only-of-type {\n",
              "        vertical-align: middle;\n",
              "    }\n",
              "\n",
              "    .dataframe tbody tr th {\n",
              "        vertical-align: top;\n",
              "    }\n",
              "\n",
              "    .dataframe thead th {\n",
              "        text-align: right;\n",
              "    }\n",
              "</style>\n",
              "<table border=\"1\" class=\"dataframe\">\n",
              "  <thead>\n",
              "    <tr style=\"text-align: right;\">\n",
              "      <th></th>\n",
              "      <th>Data</th>\n",
              "      <th>Temperatura Media (C)</th>\n",
              "      <th>Temperatura Minima (C)</th>\n",
              "      <th>Temperatura Maxima (C)</th>\n",
              "      <th>Precipitacao (mm)</th>\n",
              "      <th>Final de Semana</th>\n",
              "      <th>Consumo de cerveja (litros)</th>\n",
              "      <th>Mes</th>\n",
              "      <th>Mes str</th>\n",
              "      <th>Dia</th>\n",
              "      <th>Feriado</th>\n",
              "    </tr>\n",
              "  </thead>\n",
              "  <tbody>\n",
              "    <tr>\n",
              "      <th>9</th>\n",
              "      <td>2015-01-10</td>\n",
              "      <td>26,76</td>\n",
              "      <td>22,1</td>\n",
              "      <td>34,2</td>\n",
              "      <td>0</td>\n",
              "      <td>1.0</td>\n",
              "      <td>37.937</td>\n",
              "      <td>1</td>\n",
              "      <td>Janeiro</td>\n",
              "      <td>Sáb</td>\n",
              "      <td>0</td>\n",
              "    </tr>\n",
              "  </tbody>\n",
              "</table>\n",
              "</div>"
            ],
            "text/plain": [
              "        Data Temperatura Media (C)  ...  Dia Feriado\n",
              "9 2015-01-10                 26,76  ...  Sáb       0\n",
              "\n",
              "[1 rows x 11 columns]"
            ]
          },
          "metadata": {
            "tags": []
          },
          "execution_count": 31
        }
      ]
    },
    {
      "cell_type": "markdown",
      "metadata": {
        "id": "UddaurV6B5Ky"
      },
      "source": [
        "A data em que houve um maior consumo de cerveja ocorreu na data 10/01/2015. Se observarmos, esta data era um final de semana, no caso no sábado, e no mês de janeiro. Como já analisado, foram onde teve um maior consumo."
      ]
    },
    {
      "cell_type": "markdown",
      "metadata": {
        "id": "RQSAgj2-sS0T"
      },
      "source": [
        "## 3. Qual data houve um consumo menor?"
      ]
    },
    {
      "cell_type": "code",
      "metadata": {
        "colab": {
          "base_uri": "https://localhost:8080/",
          "height": 131
        },
        "id": "zxOxamqPCoxD",
        "outputId": "0bc0ce50-29dc-4f50-aab9-8fc7414fa6d1"
      },
      "source": [
        "base_beer[base_beer['Consumo de cerveja (litros)']==base_beer['Consumo de cerveja (litros)'].min()]"
      ],
      "execution_count": 32,
      "outputs": [
        {
          "output_type": "execute_result",
          "data": {
            "text/html": [
              "<div>\n",
              "<style scoped>\n",
              "    .dataframe tbody tr th:only-of-type {\n",
              "        vertical-align: middle;\n",
              "    }\n",
              "\n",
              "    .dataframe tbody tr th {\n",
              "        vertical-align: top;\n",
              "    }\n",
              "\n",
              "    .dataframe thead th {\n",
              "        text-align: right;\n",
              "    }\n",
              "</style>\n",
              "<table border=\"1\" class=\"dataframe\">\n",
              "  <thead>\n",
              "    <tr style=\"text-align: right;\">\n",
              "      <th></th>\n",
              "      <th>Data</th>\n",
              "      <th>Temperatura Media (C)</th>\n",
              "      <th>Temperatura Minima (C)</th>\n",
              "      <th>Temperatura Maxima (C)</th>\n",
              "      <th>Precipitacao (mm)</th>\n",
              "      <th>Final de Semana</th>\n",
              "      <th>Consumo de cerveja (litros)</th>\n",
              "      <th>Mes</th>\n",
              "      <th>Mes str</th>\n",
              "      <th>Dia</th>\n",
              "      <th>Feriado</th>\n",
              "    </tr>\n",
              "  </thead>\n",
              "  <tbody>\n",
              "    <tr>\n",
              "      <th>202</th>\n",
              "      <td>2015-07-22</td>\n",
              "      <td>14,52</td>\n",
              "      <td>12,8</td>\n",
              "      <td>16,1</td>\n",
              "      <td>0</td>\n",
              "      <td>0.0</td>\n",
              "      <td>14.343</td>\n",
              "      <td>7</td>\n",
              "      <td>Julho</td>\n",
              "      <td>Qua</td>\n",
              "      <td>0</td>\n",
              "    </tr>\n",
              "  </tbody>\n",
              "</table>\n",
              "</div>"
            ],
            "text/plain": [
              "          Data Temperatura Media (C)  ...  Dia Feriado\n",
              "202 2015-07-22                 14,52  ...  Qua       0\n",
              "\n",
              "[1 rows x 11 columns]"
            ]
          },
          "metadata": {
            "tags": []
          },
          "execution_count": 32
        }
      ]
    },
    {
      "cell_type": "markdown",
      "metadata": {
        "id": "VwRZVjFECsjf"
      },
      "source": [
        "O dia de menor consumo, foi na data 22/07/2015, e num dia de muito frio"
      ]
    },
    {
      "cell_type": "markdown",
      "metadata": {
        "id": "XTLB4N3WsdsC"
      },
      "source": [
        "## 4. Em qual mês houve um consumo maior ?\n"
      ]
    },
    {
      "cell_type": "code",
      "metadata": {
        "colab": {
          "base_uri": "https://localhost:8080/",
          "height": 0
        },
        "id": "o4q_e-aWVK-7",
        "outputId": "d6ba9b55-d090-4609-9963-a6ca2586fdb3"
      },
      "source": [
        "consumo_mes= ['Mes', 'Consumo de cerveja (litros)']\n",
        "mesconsumo = base_beer[consumo_mes].groupby('Mes', sort= True).sum()\n",
        "mesconsumo#.plot(kind='barh');"
      ],
      "execution_count": 33,
      "outputs": [
        {
          "output_type": "execute_result",
          "data": {
            "text/html": [
              "<div>\n",
              "<style scoped>\n",
              "    .dataframe tbody tr th:only-of-type {\n",
              "        vertical-align: middle;\n",
              "    }\n",
              "\n",
              "    .dataframe tbody tr th {\n",
              "        vertical-align: top;\n",
              "    }\n",
              "\n",
              "    .dataframe thead th {\n",
              "        text-align: right;\n",
              "    }\n",
              "</style>\n",
              "<table border=\"1\" class=\"dataframe\">\n",
              "  <thead>\n",
              "    <tr style=\"text-align: right;\">\n",
              "      <th></th>\n",
              "      <th>Consumo de cerveja (litros)</th>\n",
              "    </tr>\n",
              "    <tr>\n",
              "      <th>Mes</th>\n",
              "      <th></th>\n",
              "    </tr>\n",
              "  </thead>\n",
              "  <tbody>\n",
              "    <tr>\n",
              "      <th>1</th>\n",
              "      <td>889.007</td>\n",
              "    </tr>\n",
              "    <tr>\n",
              "      <th>2</th>\n",
              "      <td>718.848</td>\n",
              "    </tr>\n",
              "    <tr>\n",
              "      <th>3</th>\n",
              "      <td>776.128</td>\n",
              "    </tr>\n",
              "    <tr>\n",
              "      <th>4</th>\n",
              "      <td>738.723</td>\n",
              "    </tr>\n",
              "    <tr>\n",
              "      <th>5</th>\n",
              "      <td>706.750</td>\n",
              "    </tr>\n",
              "    <tr>\n",
              "      <th>6</th>\n",
              "      <td>708.812</td>\n",
              "    </tr>\n",
              "    <tr>\n",
              "      <th>7</th>\n",
              "      <td>699.759</td>\n",
              "    </tr>\n",
              "    <tr>\n",
              "      <th>8</th>\n",
              "      <td>803.178</td>\n",
              "    </tr>\n",
              "    <tr>\n",
              "      <th>9</th>\n",
              "      <td>755.944</td>\n",
              "    </tr>\n",
              "    <tr>\n",
              "      <th>10</th>\n",
              "      <td>857.249</td>\n",
              "    </tr>\n",
              "    <tr>\n",
              "      <th>11</th>\n",
              "      <td>774.846</td>\n",
              "    </tr>\n",
              "    <tr>\n",
              "      <th>12</th>\n",
              "      <td>842.255</td>\n",
              "    </tr>\n",
              "  </tbody>\n",
              "</table>\n",
              "</div>"
            ],
            "text/plain": [
              "     Consumo de cerveja (litros)\n",
              "Mes                             \n",
              "1                        889.007\n",
              "2                        718.848\n",
              "3                        776.128\n",
              "4                        738.723\n",
              "5                        706.750\n",
              "6                        708.812\n",
              "7                        699.759\n",
              "8                        803.178\n",
              "9                        755.944\n",
              "10                       857.249\n",
              "11                       774.846\n",
              "12                       842.255"
            ]
          },
          "metadata": {
            "tags": []
          },
          "execution_count": 33
        }
      ]
    },
    {
      "cell_type": "markdown",
      "metadata": {
        "id": "Aq-UrKjssStx"
      },
      "source": [
        "## 5. Era um dia útil, final de semana ou feriado quando ocorreu um consumo maior?\n"
      ]
    },
    {
      "cell_type": "markdown",
      "metadata": {
        "id": "8mINYtAPMEBU"
      },
      "source": [
        "o dataset possui dados do dia 1 de janeiro ao dia 31 de dezembro de 2015 e de acordo com os dados extraídos, o maior consumo ocorreu aos finais de semana e no mês de janeiro."
      ]
    },
    {
      "cell_type": "markdown",
      "metadata": {
        "id": "-hKs5_47Ih7S"
      },
      "source": [
        "Para este dataset, irei executar o modelo de regressão linear, só que para isto irei usar a classe runregression, esta classe irá permitir que possamos utilizar o cross validation e guarda as métricas (MAE, MSE, RMSE e R-quadrado) de cada fold e ao fim, apresenta a média e o desvio padrão.\n",
        "\n",
        "Créditos a minha orientadora maravilhosa [Laura Emmanuela](https://github.com/lauraemmanuella/AprendizadoMaquina/blob/main/9_Regress%C3%A3o.ipynb)"
      ]
    },
    {
      "cell_type": "code",
      "metadata": {
        "id": "tPQj71Q7OSc2"
      },
      "source": [
        "import numpy as np\n",
        "from sklearn.model_selection import KFold\n",
        "from sklearn import metrics\n",
        "\n",
        "class runregression:\n",
        "  '''\n",
        "    Parâmetros de entrada:\n",
        "\n",
        "    X: atributos de entradas\n",
        "    y: atributo alvo\n",
        "    model: algoritmo para construção do estimador\n",
        "    cv: quantidade de folds da validação cruzada\n",
        "\n",
        "    Guarda as métricas de cada execução em resultados e \n",
        "    Mostra os valores médios com desvio padrão para as métricas (mostraresultadomedio)   \n",
        "  '''\n",
        "\n",
        "  def __init__(self, X, y, model, cv = 5):\n",
        "    \n",
        "    self.__resultados = {\n",
        "      'MAE': [],\n",
        "      'MSE': [],\n",
        "      'R2': []\n",
        "    }\n",
        "\n",
        "    print(f'validação cruzada com {cv} folds')\n",
        "    self.__avaliamodelo_cv(X, y, model, cv)\n",
        "\n",
        "  @property\n",
        "  def resultados(self):\n",
        "    return self.__resultados\n",
        "\n",
        "  def __avaliamodelo_cv(self, X, y, model, cv):\n",
        "    #gera as amostras para cv folds com embaralhamento (permite fazer várias validações cruzadas)\n",
        "    kf = KFold(shuffle=True, n_splits=cv)\n",
        "    #para cada fold: treina, testa e armazena os resultados\n",
        "    for train_index, test_index in kf.split(X, y):\n",
        "      model.fit(X[train_index], y[train_index])\n",
        "      pred = model.predict(X[test_index])\n",
        "      self.__resultados['MAE'].append(metrics.mean_absolute_error(y[test_index], pred))\n",
        "      self.__resultados['MSE'].append(metrics.mean_squared_error(y[test_index], pred))\n",
        "      self.__resultados['R2'].append(metrics.r2_score(y[test_index], pred))\n",
        "\n",
        "  def mostraresultadomedio(self):\n",
        "    print(f\"MAE: {np.mean(self.__resultados['MAE']):.2f} +- {np.std(self.__resultados['MAE']):.2f}\")\n",
        "    print(f\"MSE: {np.mean(self.__resultados['MSE']):.2f} +- {np.std(self.__resultados['MSE']):.2f}\")\n",
        "    print(f\"R2: {np.mean(self.__resultados['R2']):.2f} +- {np.std(self.__resultados['R2']):.2f}\")"
      ],
      "execution_count": 34,
      "outputs": []
    },
    {
      "cell_type": "code",
      "metadata": {
        "id": "f3khGOlHUiPI"
      },
      "source": [
        "lista_temp = ['Temperatura Media (C)', 'Temperatura Minima (C)','Temperatura Maxima (C)', 'Precipitacao (mm)']\n",
        "base_beer[lista_temp] = base_beer[lista_temp].apply(lambda x: x.str.replace(',', '.'))\n",
        "\n",
        "X = base_beer.drop(['Data','Mes','Mes str','Dia','Consumo de cerveja (litros)', 'Feriado'], axis=1)\n",
        "y = base_beer['Consumo de cerveja (litros)']\n",
        "\n",
        "X = np.array(X)\n",
        "y = np.array(y)\n",
        "\n",
        "normaliza = StandardScaler()\n",
        "X = normaliza.fit_transform(X)\n",
        "#\n"
      ],
      "execution_count": 35,
      "outputs": []
    },
    {
      "cell_type": "markdown",
      "metadata": {
        "id": "22CCg389X7rl"
      },
      "source": [
        "Usando a classe runregression"
      ]
    },
    {
      "cell_type": "code",
      "metadata": {
        "colab": {
          "base_uri": "https://localhost:8080/"
        },
        "id": "Kb0G4ScKR70U",
        "outputId": "57ff7172-ec53-4944-939a-49f7055795a5"
      },
      "source": [
        "cross_validation_RL = runregression(X, y, LinearRegression(), cv = 10)\n",
        "cross_validation_RL.mostraresultadomedio()"
      ],
      "execution_count": 36,
      "outputs": [
        {
          "output_type": "stream",
          "text": [
            "validação cruzada com 10 folds\n",
            "MAE: 2.00 +- 0.19\n",
            "MSE: 5.59 +- 0.92\n",
            "R2: 0.70 +- 0.06\n"
          ],
          "name": "stdout"
        }
      ]
    },
    {
      "cell_type": "markdown",
      "metadata": {
        "id": "CY9wov2BYEpG"
      },
      "source": [
        "Para avaliar os resultados obtidos, iremos utilizar as seguintes métricas:\n",
        "\n",
        "* **Erro Médio Absoluto:** O erro médio absoluto, conhecido como MAE, é a diferença entre os valores reais e os valores previstos pelo modelo. Quanto menor este valor do MAE, melhor o desempenho deste modelo. Um erro que apresente um valor igual ou próximo a zero significa que o o modelo é muito bom. Para este modelo, o MAE deu 2.00, o que é bom pois está muito próximo a 0.\n",
        "\n",
        "* **Erro Quadrático Médio:** É calculado tomando a média do quadrado  da diferença entre os valores reais e os valores previsto pelo modelo. \n",
        "\n",
        "* **R-quadrado:** O r-quadrado, representa o coeficiente de determinação, ele nos diz quantos pontos caem na reta da regressão. O valor de 0.70, indica que 70% dos dados se ajustam ao modelo de regressão\n",
        "\n"
      ]
    }
  ]
}