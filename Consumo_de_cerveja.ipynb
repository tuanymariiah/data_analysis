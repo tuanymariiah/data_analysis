{
  "nbformat": 4,
  "nbformat_minor": 0,
  "metadata": {
    "colab": {
      "name": "Consumo de cerveja.ipynb",
      "provenance": [],
      "authorship_tag": "ABX9TyPigzN1goAeAijL4yT2ZDMK",
      "include_colab_link": true
    },
    "kernelspec": {
      "name": "python3",
      "display_name": "Python 3"
    },
    "language_info": {
      "name": "python"
    }
  },
  "cells": [
    {
      "cell_type": "markdown",
      "metadata": {
        "id": "view-in-github",
        "colab_type": "text"
      },
      "source": [
        "<a href=\"https://colab.research.google.com/github/tuanymariiah/data_analysis/blob/main/Consumo_de_cerveja.ipynb\" target=\"_parent\"><img src=\"https://colab.research.google.com/assets/colab-badge.svg\" alt=\"Open In Colab\"/></a>"
      ]
    },
    {
      "cell_type": "code",
      "metadata": {
        "id": "r-oH8wGMlfx-"
      },
      "source": [
        "import pandas as pd\n",
        "import numpy as np\n",
        "import seaborn as sns\n",
        "import matplotlib.pyplot as plt\n",
        "from sklearn.preprocessing import MinMaxScaler\n",
        "from sklearn.preprocessing import StandardScaler\n",
        "from sklearn.model_selection import train_test_split\n",
        "\n",
        "sns.set()\n"
      ],
      "execution_count": 1,
      "outputs": []
    },
    {
      "cell_type": "code",
      "metadata": {
        "id": "rdh208ThlrvS"
      },
      "source": [
        "file = 'https://raw.githubusercontent.com/tuanymariiah/data_analysis/main/Bases/Consumo_cerveja.csv?token=AG2B7L7OXCU33OBQDRA36C3BCFIG4'\n",
        "base_beer = pd.read_csv(file)"
      ],
      "execution_count": 2,
      "outputs": []
    },
    {
      "cell_type": "markdown",
      "metadata": {
        "id": "BeQu_iwdnqIq"
      },
      "source": [
        " Apresentacao do dataset\n",
        "* Data - data da coleta                    \n",
        "* Temperatura Media (C) - temperatura média daquele dia  \n",
        "* Temperatura Minima (C) - temperatura mínima daquele dia\n",
        "* Temperatura Maxima (C) - temperatura máxima daquele dia        \n",
        "* Precipitacao (mm) - ?    \n",
        "* Final de Semana - marca 0 ou 1 se aquela data cai em um final de semana               \n",
        "* Consumo de cerveja (litros) - variável de saída"
      ]
    },
    {
      "cell_type": "markdown",
      "metadata": {
        "id": "HY4z2FsSmMnn"
      },
      "source": [
        "verificacao de valores ausentes\n"
      ]
    },
    {
      "cell_type": "code",
      "metadata": {
        "colab": {
          "base_uri": "https://localhost:8080/"
        },
        "id": "yj-7LLEbmRuZ",
        "outputId": "b5ae414d-3596-4923-87bf-95b4887478ea"
      },
      "source": [
        "base_beer.isna().sum()"
      ],
      "execution_count": 3,
      "outputs": [
        {
          "output_type": "execute_result",
          "data": {
            "text/plain": [
              "Data                           576\n",
              "Temperatura Media (C)          576\n",
              "Temperatura Minima (C)         576\n",
              "Temperatura Maxima (C)         576\n",
              "Precipitacao (mm)              576\n",
              "Final de Semana                576\n",
              "Consumo de cerveja (litros)    576\n",
              "dtype: int64"
            ]
          },
          "metadata": {
            "tags": []
          },
          "execution_count": 3
        }
      ]
    },
    {
      "cell_type": "markdown",
      "metadata": {
        "id": "TxqVXmXbnhLm"
      },
      "source": [
        "exclusao dos valores ausentes"
      ]
    },
    {
      "cell_type": "code",
      "metadata": {
        "colab": {
          "base_uri": "https://localhost:8080/"
        },
        "id": "2krNXpmDmPvy",
        "outputId": "e0ccdd8f-2a24-47ba-a640-3811bca9043a"
      },
      "source": [
        "base_beer=base_beer.dropna()\n",
        "base_beer.isna().sum()"
      ],
      "execution_count": 4,
      "outputs": [
        {
          "output_type": "execute_result",
          "data": {
            "text/plain": [
              "Data                           0\n",
              "Temperatura Media (C)          0\n",
              "Temperatura Minima (C)         0\n",
              "Temperatura Maxima (C)         0\n",
              "Precipitacao (mm)              0\n",
              "Final de Semana                0\n",
              "Consumo de cerveja (litros)    0\n",
              "dtype: int64"
            ]
          },
          "metadata": {
            "tags": []
          },
          "execution_count": 4
        }
      ]
    },
    {
      "cell_type": "markdown",
      "metadata": {
        "id": "_R79Pg61w1X3"
      },
      "source": [
        "Para uma análise exploratória desses dados tracei algumas coisas interessantes a se observar, como:\n",
        "* temperatura máxima e mínima do ambiente\n",
        "* Qual o mes de maior consumo de cerveja\n",
        "* Em qual temperatura houve maior consumo de cerveja\n",
        "* verificar os outlier\n",
        "* a correlacao do consumo de cerveja e os demais atributos"
      ]
    },
    {
      "cell_type": "markdown",
      "metadata": {
        "id": "_PNMQEggohlg"
      },
      "source": [
        "qual a temperatura máxima da cerveja?"
      ]
    },
    {
      "cell_type": "code",
      "metadata": {
        "colab": {
          "base_uri": "https://localhost:8080/"
        },
        "id": "DcBJE4h6ok-u",
        "outputId": "3c9026e0-2a8f-4a26-9618-836294e3e6cc"
      },
      "source": [
        "print('Temperatura máxima (máxima) do ambiente: ',base_beer['Temperatura Maxima (C)'].max())\n",
        "print('Temperatura máxima (minima) do ambiente: ',base_beer['Temperatura Maxima (C)'].min())\n",
        "\n",
        "print('Temperatura mínima (máxima) do ambiente: ',base_beer['Temperatura Minima (C)'].max())\n",
        "print('Temperatura mínima (mínima) do ambiente: ',base_beer['Temperatura Minima (C)'].min())\n",
        "\n",
        "print('Temperatura média (máxima) do ambiente: ',base_beer['Temperatura Media (C)'].max())\n",
        "print('Temperatura média (mínima) do ambiente: ',base_beer['Temperatura Media (C)'].min())\n"
      ],
      "execution_count": 5,
      "outputs": [
        {
          "output_type": "stream",
          "text": [
            "Temperatura máxima (máxima) do ambiente:  36,5\n",
            "Temperatura máxima (minima) do ambiente:  14,5\n",
            "Temperatura mínima (máxima) do ambiente:  24,5\n",
            "Temperatura mínima (mínima) do ambiente:  10,6\n",
            "Temperatura média (máxima) do ambiente:  28,86\n",
            "Temperatura média (mínima) do ambiente:  12,9\n"
          ],
          "name": "stdout"
        }
      ]
    },
    {
      "cell_type": "markdown",
      "metadata": {
        "id": "X0a51PzgphL3"
      },
      "source": [
        "com isso podemos ver que a temperatura máxima do ambiente, ou seja da cidade de SP, varia entre 14.5 e 36.5 graus e que a temperatura mínima varia entre de 10.6 e 24.5. "
      ]
    },
    {
      "cell_type": "markdown",
      "metadata": {
        "id": "nluDVw-KqA-J"
      },
      "source": [
        "quantidade de bebidas alcoolicas ingeridas nos finais de semana?"
      ]
    },
    {
      "cell_type": "code",
      "metadata": {
        "colab": {
          "base_uri": "https://localhost:8080/",
          "height": 357
        },
        "id": "BhlOs5t7qUYE",
        "outputId": "e383c659-de4e-4170-9a52-9be60616c3ce"
      },
      "source": [
        "base_beer['Final de Semana'].value_counts().plot(kind='pie', autopct='%.2f%%', figsize=[6,6]);\n",
        "\n",
        "plt.legend(['sim', 'nao']);"
      ],
      "execution_count": 6,
      "outputs": [
        {
          "output_type": "display_data",
          "data": {
            "image/png": "[encoded data removed]",
            "text/plain": [
              "<Figure size 432x432 with 1 Axes>"
            ]
          },
          "metadata": {
            "tags": []
          }
        }
      ]
    },
    {
      "cell_type": "markdown",
      "metadata": {
        "id": "L6pogO2SrVXF"
      },
      "source": [
        "de acordo com o grafico acima, nos finais de semana é possível ver um consumo maior de cerveja."
      ]
    },
    {
      "cell_type": "markdown",
      "metadata": {
        "id": "N3f2U7MAUbb7"
      },
      "source": [
        "Como ja retiramos os valores ausentes, podemos normalizar o dataset, assim, todas as amostras ficaram na mesma escala, mas antes vamos separar será nosso X e nosso y\n",
        "\n",
        "O atributo data será removido pois ele não é um atributo interessante para nossa base de dados"
      ]
    },
    {
      "cell_type": "code",
      "metadata": {
        "id": "9xpu9_XQXaQp"
      },
      "source": [
        "base_beer.drop('Data', axis=1, inplace=True)\n",
        "colum=['Temperatura Media (C)','Temperatura Minima (C)','Temperatura Maxima (C)','Precipitacao (mm)']\n",
        "base_beer[colum] = base_beer[colum].apply(lambda x: x.str.replace(',', '.'))\n",
        "base_beer = base_beer.apply(pd.to_numeric)\n"
      ],
      "execution_count": 8,
      "outputs": []
    },
    {
      "cell_type": "code",
      "metadata": {
        "id": "jCzfok0yVQWq"
      },
      "source": [
        "X = base_beer.drop(['Consumo de cerveja (litros)'],axis=1)\n",
        "y = base_beer['Consumo de cerveja (litros)']"
      ],
      "execution_count": 9,
      "outputs": []
    },
    {
      "cell_type": "code",
      "metadata": {
        "id": "qfNYqwUrWAcX"
      },
      "source": [
        "base_beer_normalizado = MinMaxScaler().fit_transform(X)\n"
      ],
      "execution_count": 10,
      "outputs": []
    },
    {
      "cell_type": "code",
      "metadata": {
        "id": "YDExdG_dUa8O"
      },
      "source": [
        "#dividindo a base\n",
        "X_train, X_test, y_train, y_test = train_test_split(X, y,test_size=0.3)"
      ],
      "execution_count": 11,
      "outputs": []
    }
  ]
}