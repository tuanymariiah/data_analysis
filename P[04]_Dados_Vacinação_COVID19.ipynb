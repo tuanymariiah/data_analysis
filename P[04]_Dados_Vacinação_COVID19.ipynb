{
  "nbformat": 4,
  "nbformat_minor": 0,
  "metadata": {
    "colab": {
      "name": "P[04] Dados Vacinação - COVID19.ipynb",
      "provenance": [],
      "mount_file_id": "1lzBCqgJ3hq5g8EjobbsOxXqnoS9c0ITX",
      "authorship_tag": "ABX9TyNcwAtadOBjMFcDqLGBMEHC",
      "include_colab_link": true
    },
    "kernelspec": {
      "name": "python3",
      "display_name": "Python 3"
    },
    "language_info": {
      "name": "python"
    }
  },
  "cells": [
    {
      "cell_type": "markdown",
      "metadata": {
        "id": "view-in-github",
        "colab_type": "text"
      },
      "source": [
        "<a href=\"https://colab.research.google.com/github/tuanymariiah/data_analysis/blob/main/P%5B04%5D_Dados_Vacina%C3%A7%C3%A3o_COVID19.ipynb\" target=\"_parent\"><img src=\"https://colab.research.google.com/assets/colab-badge.svg\" alt=\"Open In Colab\"/></a>"
      ]
    },
    {
      "cell_type": "code",
      "metadata": {
        "id": "kbj1Z19bOlD0"
      },
      "source": [
        "#importacao das bibliotecas\n",
        "import pandas as pd\n",
        "import numpy as np\n"
      ],
      "execution_count": 1,
      "outputs": []
    },
    {
      "cell_type": "code",
      "metadata": {
        "id": "WmuWGAtsO-hE"
      },
      "source": [
        "\n",
        "file ='/content/drive/MyDrive/Projetos Pessoais/Portifólio/P[04]/part-00000-d66b59bf-108c-49ed-8a76-ea7122fec2b1.c000.csv'\n",
        "df_vacina = pd.read_csv(file,nrows=108013, delimiter=';',error_bad_lines=False)\n"
      ],
      "execution_count": 2,
      "outputs": []
    },
    {
      "cell_type": "markdown",
      "metadata": {
        "id": "6D-WnCtg0vs8"
      },
      "source": [
        "Primeiro, iremos verificar e remover as linhas duplicadas, tendo como referência o id do paciente, ***paciente_id***. Porque dessa forma, podemos verificar se o paciente tomou as duas doses ou apenas a dose única "
      ]
    },
    {
      "cell_type": "code",
      "metadata": {
        "colab": {
          "base_uri": "https://localhost:8080/"
        },
        "id": "cLlho-jJzUfy",
        "outputId": "98b68fc3-246d-4da2-b246-05f2aca319bd"
      },
      "source": [
        "subset = ['paciente_id', \n",
        "          'paciente_datanascimento', \n",
        "          'paciente_endereco_nmmunicipio', \n",
        "          'vacina_grupoatendimento_nome', \n",
        "          'vacina_categoria_nome']\n",
        "print('Quantidade de Pacientes duplicados: ',df_vacina.duplicated(subset=subset, keep='last').sum())  "
      ],
      "execution_count": 3,
      "outputs": [
        {
          "output_type": "stream",
          "name": "stdout",
          "text": [
            "Quantidade de Pacientes duplicados:  288\n"
          ]
        }
      ]
    },
    {
      "cell_type": "markdown",
      "metadata": {
        "id": "Cbie5Swi4AEw"
      },
      "source": [
        "Como podemos ver, temos cerca de 288 pacientes duplicados, isso significa que o mesmo já tomou a 1a dose, possivelmente, devido a isso irei remover esses registros duplicados, mantendo apenas o último "
      ]
    },
    {
      "cell_type": "code",
      "metadata": {
        "colab": {
          "base_uri": "https://localhost:8080/"
        },
        "id": "14bkIxtL5z2n",
        "outputId": "76cf4749-762a-4c1e-b531-51f3b327ce45"
      },
      "source": [
        "df_vacina.drop_duplicates(subset= subset,keep='last', inplace = True)\n",
        "print('Quantidade de Pacientes duplicados, após a remoção: ',df_vacina.duplicated(subset=subset, keep='last').sum())  \n",
        "print('Quantidade atual de registros: ', df_vacina.shape[0])"
      ],
      "execution_count": 4,
      "outputs": [
        {
          "output_type": "stream",
          "name": "stdout",
          "text": [
            "Quantidade de Pacientes duplicados, após a remoção:  0\n",
            "Quantidade atual de registros:  107725\n"
          ]
        }
      ]
    },
    {
      "cell_type": "code",
      "metadata": {
        "colab": {
          "base_uri": "https://localhost:8080/",
          "height": 317
        },
        "id": "B0xxY6DHTjdw",
        "outputId": "e7dd8305-7d9a-40f1-ef5f-2a9e49883030"
      },
      "source": [
        "#verifica se tem outliers, principalmente na idade do paciente\n",
        "df_vacina.describe()"
      ],
      "execution_count": 5,
      "outputs": [
        {
          "output_type": "execute_result",
          "data": {
            "text/html": [
              "<div>\n",
              "<style scoped>\n",
              "    .dataframe tbody tr th:only-of-type {\n",
              "        vertical-align: middle;\n",
              "    }\n",
              "\n",
              "    .dataframe tbody tr th {\n",
              "        vertical-align: top;\n",
              "    }\n",
              "\n",
              "    .dataframe thead th {\n",
              "        text-align: right;\n",
              "    }\n",
              "</style>\n",
              "<table border=\"1\" class=\"dataframe\">\n",
              "  <thead>\n",
              "    <tr style=\"text-align: right;\">\n",
              "      <th></th>\n",
              "      <th>paciente_idade</th>\n",
              "      <th>paciente_racacor_codigo</th>\n",
              "      <th>paciente_endereco_coibgemunicipio</th>\n",
              "      <th>paciente_endereco_copais</th>\n",
              "      <th>paciente_endereco_cep</th>\n",
              "      <th>estabelecimento_valor</th>\n",
              "      <th>estabelecimento_municipio_codigo</th>\n",
              "      <th>vacina_grupoatendimento_codigo</th>\n",
              "      <th>vacina_categoria_codigo</th>\n",
              "      <th>vacina_fabricante_referencia</th>\n",
              "      <th>vacina_codigo</th>\n",
              "      <th>id_sistema_origem</th>\n",
              "    </tr>\n",
              "  </thead>\n",
              "  <tbody>\n",
              "    <tr>\n",
              "      <th>count</th>\n",
              "      <td>107724.000000</td>\n",
              "      <td>107724.000000</td>\n",
              "      <td>107388.000000</td>\n",
              "      <td>107388.0</td>\n",
              "      <td>103405.000000</td>\n",
              "      <td>1.077250e+05</td>\n",
              "      <td>107725.000000</td>\n",
              "      <td>107725.000000</td>\n",
              "      <td>105756.000000</td>\n",
              "      <td>0.0</td>\n",
              "      <td>107725.000000</td>\n",
              "      <td>107725.000000</td>\n",
              "    </tr>\n",
              "    <tr>\n",
              "      <th>mean</th>\n",
              "      <td>46.276354</td>\n",
              "      <td>17.495934</td>\n",
              "      <td>243012.883302</td>\n",
              "      <td>10.0</td>\n",
              "      <td>58999.614409</td>\n",
              "      <td>4.283853e+06</td>\n",
              "      <td>240709.782892</td>\n",
              "      <td>6824.694825</td>\n",
              "      <td>7.399401</td>\n",
              "      <td>NaN</td>\n",
              "      <td>85.794217</td>\n",
              "      <td>17884.558923</td>\n",
              "    </tr>\n",
              "    <tr>\n",
              "      <th>std</th>\n",
              "      <td>17.171805</td>\n",
              "      <td>34.956971</td>\n",
              "      <td>22031.373858</td>\n",
              "      <td>0.0</td>\n",
              "      <td>4820.687266</td>\n",
              "      <td>2.108753e+06</td>\n",
              "      <td>353.815700</td>\n",
              "      <td>78157.799693</td>\n",
              "      <td>9.629590</td>\n",
              "      <td>NaN</td>\n",
              "      <td>0.831526</td>\n",
              "      <td>127.219686</td>\n",
              "    </tr>\n",
              "    <tr>\n",
              "      <th>min</th>\n",
              "      <td>2.000000</td>\n",
              "      <td>1.000000</td>\n",
              "      <td>110001.000000</td>\n",
              "      <td>10.0</td>\n",
              "      <td>0.000000</td>\n",
              "      <td>2.371707e+06</td>\n",
              "      <td>240010.000000</td>\n",
              "      <td>0.000000</td>\n",
              "      <td>1.000000</td>\n",
              "      <td>NaN</td>\n",
              "      <td>85.000000</td>\n",
              "      <td>17862.000000</td>\n",
              "    </tr>\n",
              "    <tr>\n",
              "      <th>25%</th>\n",
              "      <td>32.000000</td>\n",
              "      <td>1.000000</td>\n",
              "      <td>240360.000000</td>\n",
              "      <td>10.0</td>\n",
              "      <td>59122.000000</td>\n",
              "      <td>2.416751e+06</td>\n",
              "      <td>240360.000000</td>\n",
              "      <td>203.000000</td>\n",
              "      <td>2.000000</td>\n",
              "      <td>NaN</td>\n",
              "      <td>85.000000</td>\n",
              "      <td>17862.000000</td>\n",
              "    </tr>\n",
              "    <tr>\n",
              "      <th>50%</th>\n",
              "      <td>44.000000</td>\n",
              "      <td>3.000000</td>\n",
              "      <td>240810.000000</td>\n",
              "      <td>10.0</td>\n",
              "      <td>59280.000000</td>\n",
              "      <td>3.008320e+06</td>\n",
              "      <td>240810.000000</td>\n",
              "      <td>926.000000</td>\n",
              "      <td>9.000000</td>\n",
              "      <td>NaN</td>\n",
              "      <td>86.000000</td>\n",
              "      <td>17862.000000</td>\n",
              "    </tr>\n",
              "    <tr>\n",
              "      <th>75%</th>\n",
              "      <td>59.000000</td>\n",
              "      <td>4.000000</td>\n",
              "      <td>240820.000000</td>\n",
              "      <td>10.0</td>\n",
              "      <td>59600.000000</td>\n",
              "      <td>6.347223e+06</td>\n",
              "      <td>240810.000000</td>\n",
              "      <td>926.000000</td>\n",
              "      <td>9.000000</td>\n",
              "      <td>NaN</td>\n",
              "      <td>87.000000</td>\n",
              "      <td>17862.000000</td>\n",
              "    </tr>\n",
              "    <tr>\n",
              "      <th>max</th>\n",
              "      <td>131.000000</td>\n",
              "      <td>99.000000</td>\n",
              "      <td>999999.000000</td>\n",
              "      <td>10.0</td>\n",
              "      <td>99999.000000</td>\n",
              "      <td>9.915117e+06</td>\n",
              "      <td>241500.000000</td>\n",
              "      <td>999999.000000</td>\n",
              "      <td>300.000000</td>\n",
              "      <td>NaN</td>\n",
              "      <td>88.000000</td>\n",
              "      <td>18602.000000</td>\n",
              "    </tr>\n",
              "  </tbody>\n",
              "</table>\n",
              "</div>"
            ],
            "text/plain": [
              "       paciente_idade  ...  id_sistema_origem\n",
              "count   107724.000000  ...      107725.000000\n",
              "mean        46.276354  ...       17884.558923\n",
              "std         17.171805  ...         127.219686\n",
              "min          2.000000  ...       17862.000000\n",
              "25%         32.000000  ...       17862.000000\n",
              "50%         44.000000  ...       17862.000000\n",
              "75%         59.000000  ...       17862.000000\n",
              "max        131.000000  ...       18602.000000\n",
              "\n",
              "[8 rows x 12 columns]"
            ]
          },
          "metadata": {},
          "execution_count": 5
        }
      ]
    },
    {
      "cell_type": "markdown",
      "metadata": {
        "id": "7-V7bEY1T9GT"
      },
      "source": [
        "ideias de analises\n",
        "\n",
        "\n",
        "* qual vacina houve mais demanda\n",
        "* qual grupo racial teeve mais pessoas vacinadas\n",
        "* quantidade de homens e mulheres que foram vacinadas\n",
        "* qual municipio teve mais pessoas vacinadas\n",
        "* verificar se tem pessoas de outros paises tomando vacina no RN\n",
        "* verificar se tem vacinas em atraso\n",
        "* **CLASSIFICACAO DE VACINAS 0 para quem tomou a 1a dose  e 1 para quem tomou a 2a dose**\n",
        "**0 para quem tá 100% imunizado 1 para quem nao está**\n"
      ]
    },
    {
      "cell_type": "markdown",
      "metadata": {
        "id": "PsHy6-Hw9RDd"
      },
      "source": [
        "Primeiramente, irei ajustar tanto o nome das vacinas aplicadas como o nome das doses para facilitar as análises"
      ]
    },
    {
      "cell_type": "code",
      "metadata": {
        "colab": {
          "base_uri": "https://localhost:8080/"
        },
        "id": "-SZ25WxxKr5M",
        "outputId": "b0552ea8-4f3c-4dac-911a-a9c86ebc9a50"
      },
      "source": [
        "def ajustadose(registro_dose):\n",
        "    if registro_dose['vacina_descricao_dose']==\"1ª Dose\":\n",
        "      return 'D1'\n",
        "    elif registro_dose['vacina_descricao_dose']=='2ª Dose':\n",
        "      return 'D2'\n",
        "    elif registro_dose['vacina_descricao_dose']==\"Única \":\n",
        "      return 'DU'\n",
        "    else:\n",
        "      return 'DU'\n",
        "df_vacina['vacina_descricao_dose'] = df_vacina.apply(ajustadose, axis=1)\n",
        "df_vacina['vacina_descricao_dose'].value_counts()"
      ],
      "execution_count": 6,
      "outputs": [
        {
          "output_type": "execute_result",
          "data": {
            "text/plain": [
              "D1    101680\n",
              "D2      5975\n",
              "DU        70\n",
              "Name: vacina_descricao_dose, dtype: int64"
            ]
          },
          "metadata": {},
          "execution_count": 6
        }
      ]
    },
    {
      "cell_type": "code",
      "metadata": {
        "colab": {
          "base_uri": "https://localhost:8080/"
        },
        "id": "ffxvPS7bRBwj",
        "outputId": "520b61d7-8b6f-4bcc-a16f-c1f92839fe4b"
      },
      "source": [
        "def ajusta_nome_vacina(registro_dose):\n",
        "    if registro_dose['vacina_nome']==\"Vacina Covid-19 - Covishield\":\n",
        "      return 'OXFORD'\n",
        "    elif registro_dose['vacina_nome']=='Covid-19-Coronavac-Sinovac/Butantan':\n",
        "      return 'CORONAVAC'\n",
        "    elif registro_dose['vacina_nome']==\"Vacina covid-19 - BNT162b2 - BioNTech/Fosun Pharma/Pfizer\":\n",
        "      return 'PFIZER'\n",
        "    elif registro_dose['vacina_nome']==\"Vacina covid-19 - Ad26.COV2.S - Janssen-Cilag\":\n",
        "      return 'JANSSEN'\n",
        "\n",
        "df_vacina['vacina_nome'] = df_vacina.apply(ajusta_nome_vacina, axis=1)\n",
        "df_vacina['vacina_nome'].value_counts()"
      ],
      "execution_count": 7,
      "outputs": [
        {
          "output_type": "execute_result",
          "data": {
            "text/plain": [
              "OXFORD       50484\n",
              "CORONAVAC    29048\n",
              "PFIZER       28070\n",
              "JANSSEN        123\n",
              "Name: vacina_nome, dtype: int64"
            ]
          },
          "metadata": {},
          "execution_count": 7
        }
      ]
    },
    {
      "cell_type": "markdown",
      "metadata": {
        "id": "4uPRvGhnWfmT"
      },
      "source": [
        "Uma vez que modificamos o nome das doses, como o nome das vacinas. Agora iremos analisar as doses aplicadas, D1 + D2. Posteriormente, iremos analisar de acordo com as doses aplicadas, ou seja, quem está 50% imunizado e 100% imunizado.\n",
        "\n",
        "Com isso, agora iremos ver qual vacina tem mais demanda para o estado."
      ]
    },
    {
      "cell_type": "code",
      "metadata": {
        "colab": {
          "base_uri": "https://localhost:8080/",
          "height": 351
        },
        "id": "-gwcq8xcWMLG",
        "outputId": "9e604f56-ecf2-4e33-c5ed-3f8b82c43ed8"
      },
      "source": [
        "df_vacina['vacina_nome'].value_counts().plot(kind='bar', title='Demanda Vacina - RN')"
      ],
      "execution_count": 8,
      "outputs": [
        {
          "output_type": "execute_result",
          "data": {
            "text/plain": [
              "<matplotlib.axes._subplots.AxesSubplot at 0x7f4b45fd7dd0>"
            ]
          },
          "metadata": {},
          "execution_count": 8
        },
        {
          "output_type": "display_data",
          "data": {
            "image/png": "[encoded data removed]",
            "text/plain": [
              "<Figure size 432x288 with 1 Axes>"
            ]
          },
          "metadata": {
            "needs_background": "light"
          }
        }
      ]
    },
    {
      "cell_type": "markdown",
      "metadata": {
        "id": "2bbmAHftX0rz"
      },
      "source": [
        "Quantidade de Homens e mulheres que se vacinaram que tomaram pelo menos a primeira dose"
      ]
    },
    {
      "cell_type": "code",
      "metadata": {
        "colab": {
          "base_uri": "https://localhost:8080/"
        },
        "id": "rM3j8oKPYARx",
        "outputId": "a2d64587-defd-460f-f221-95b06d199ed9"
      },
      "source": [
        "df_vacina['paciente_enumsexobiologico'].value_counts()"
      ],
      "execution_count": 9,
      "outputs": [
        {
          "output_type": "execute_result",
          "data": {
            "text/plain": [
              "F    59314\n",
              "M    48410\n",
              "Name: paciente_enumsexobiologico, dtype: int64"
            ]
          },
          "metadata": {},
          "execution_count": 9
        }
      ]
    },
    {
      "cell_type": "markdown",
      "metadata": {
        "id": "1T_ygO0obn3k"
      },
      "source": [
        "como o estado do RN, possui muitos municípios irei apresentar pelo menos os 10 maiores que mais vacinou seus habitantes."
      ]
    },
    {
      "cell_type": "code",
      "metadata": {
        "colab": {
          "base_uri": "https://localhost:8080/",
          "height": 423
        },
        "id": "EW4GnIG6aVTI",
        "outputId": "4832756c-8ce8-450f-bb2f-c9079025b7bd"
      },
      "source": [
        "df_vacina['paciente_endereco_nmmunicipio'].value_counts().head(10).plot(kind='bar')"
      ],
      "execution_count": 10,
      "outputs": [
        {
          "output_type": "execute_result",
          "data": {
            "text/plain": [
              "<matplotlib.axes._subplots.AxesSubplot at 0x7f4b3da75f10>"
            ]
          },
          "metadata": {},
          "execution_count": 10
        },
        {
          "output_type": "display_data",
          "data": {
            "image/png": "[encoded data removed]",
            "text/plain": [
              "<Figure size 432x288 with 1 Axes>"
            ]
          },
          "metadata": {
            "needs_background": "light"
          }
        }
      ]
    },
    {
      "cell_type": "markdown",
      "metadata": {
        "id": "fsbJIC8MgALL"
      },
      "source": [
        "Quando a vacinação começou no estado do RN, as primeiras demandas vieram para os profissionais da saúde e idosos, com isso conseguimos ver se pelo menos a grande maioria dos profissionais da saúde estão imune ao vírus."
      ]
    },
    {
      "cell_type": "code",
      "metadata": {
        "colab": {
          "base_uri": "https://localhost:8080/"
        },
        "id": "x91t0L2_c3cg",
        "outputId": "80283919-e8de-42e3-b177-0b4e7dbd4a00"
      },
      "source": [
        "df_vacina['vacina_categoria_nome'].value_counts().plot(kind='barh')"
      ],
      "execution_count": 11,
      "outputs": [
        {
          "output_type": "execute_result",
          "data": {
            "text/plain": [
              "Trabalhadores de Saúde                             61418\n",
              "Faixa Etária                                       21156\n",
              "Comorbidades                                       14197\n",
              "Trabalhadores da Educação                           1939\n",
              "Trabalhadores Industriais                           1798\n",
              "Pessoas com Deficiência                              794\n",
              "Pessoas de 60 anos ou mais institucionalizadas       760\n",
              "Gestantes                                            758\n",
              "Outros                                               594\n",
              "Povos e Comunidades Tradicionais                     476\n",
              "Trabalhadores de Transporte                          393\n",
              "Forças de Segurança e Salvamento                     344\n",
              "Forças Armadas (membros ativos)                      214\n",
              "População Privada de Liberdade                       200\n",
              "Povos Indígenas                                      173\n",
              "Puérperas                                            158\n",
              "Trabalhadores de Limpeza Urbana                      131\n",
              "Trabalhadores Portuários                             103\n",
              "Funcionário do Sistema de Privação de Liberdade      102\n",
              "Pessoas em Situação de Rua                            44\n",
              "Name: vacina_categoria_nome, dtype: int64"
            ]
          },
          "metadata": {},
          "execution_count": 11
        }
      ]
    },
    {
      "cell_type": "code",
      "metadata": {
        "colab": {
          "base_uri": "https://localhost:8080/",
          "height": 499
        },
        "id": "MBWaOTt1dipo",
        "outputId": "5d4ef9f5-eaa1-4dfc-e947-5d9c9abbcd2a"
      },
      "source": [
        "ps = df_vacina[df_vacina['vacina_categoria_nome']=='Trabalhadores de Saúde']\n",
        "ps['vacina_descricao_dose'].value_counts().plot(kind='pie',autopct='%.2f%%', figsize=[8,8],title='Porcentagem dos trabalhadores da saude que tomaram a vacina')"
      ],
      "execution_count": 25,
      "outputs": [
        {
          "output_type": "execute_result",
          "data": {
            "text/plain": [
              "<matplotlib.axes._subplots.AxesSubplot at 0x7f4b3da0ac50>"
            ]
          },
          "metadata": {},
          "execution_count": 25
        },
        {
          "output_type": "display_data",
          "data": {
            "image/png": "[encoded data removed]",
            "text/plain": [
              "<Figure size 576x576 with 1 Axes>"
            ]
          },
          "metadata": {}
        }
      ]
    },
    {
      "cell_type": "markdown",
      "metadata": {
        "id": "tcmp44iRjZf3"
      },
      "source": [
        "Quais vacinas mais aplicadas nos profissionais da saúde"
      ]
    },
    {
      "cell_type": "code",
      "metadata": {
        "colab": {
          "base_uri": "https://localhost:8080/",
          "height": 499
        },
        "id": "HzXddDV7jAIr",
        "outputId": "d3ec1441-6f6d-42f9-834e-55e9309896a2"
      },
      "source": [
        "ps = df_vacina[df_vacina['vacina_categoria_nome']=='Trabalhadores de Saúde']\n",
        "ps['vacina_nome'].value_counts().plot(kind='pie',autopct='%.2f%%', figsize=[8,8],title='Quais vacinas mais aplicadas nos profissionais da saúde')"
      ],
      "execution_count": 27,
      "outputs": [
        {
          "output_type": "execute_result",
          "data": {
            "text/plain": [
              "<matplotlib.axes._subplots.AxesSubplot at 0x7f4b3d98a150>"
            ]
          },
          "metadata": {},
          "execution_count": 27
        },
        {
          "output_type": "display_data",
          "data": {
            "image/png": "[encoded data removed]",
            "text/plain": [
              "<Figure size 576x576 with 1 Axes>"
            ]
          },
          "metadata": {}
        }
      ]
    },
    {
      "cell_type": "code",
      "metadata": {
        "colab": {
          "base_uri": "https://localhost:8080/"
        },
        "id": "P9-1tiIYX5_F",
        "outputId": "550fa9d7-87ea-4caf-bc87-1331c85d12a4"
      },
      "source": [
        "df_vacina.columns"
      ],
      "execution_count": 13,
      "outputs": [
        {
          "output_type": "execute_result",
          "data": {
            "text/plain": [
              "Index(['document_id', 'paciente_id', 'paciente_idade',\n",
              "       'paciente_datanascimento', 'paciente_enumsexobiologico',\n",
              "       'paciente_racacor_codigo', 'paciente_racacor_valor',\n",
              "       'paciente_endereco_coibgemunicipio', 'paciente_endereco_copais',\n",
              "       'paciente_endereco_nmmunicipio', 'paciente_endereco_nmpais',\n",
              "       'paciente_endereco_uf', 'paciente_endereco_cep',\n",
              "       'paciente_nacionalidade_enumnacionalidade', 'estabelecimento_valor',\n",
              "       'estabelecimento_razaosocial', 'estalecimento_nofantasia',\n",
              "       'estabelecimento_municipio_codigo', 'estabelecimento_municipio_nome',\n",
              "       'estabelecimento_uf', 'vacina_grupoatendimento_codigo',\n",
              "       'vacina_grupoatendimento_nome', 'vacina_categoria_codigo',\n",
              "       'vacina_categoria_nome', 'vacina_lote', 'vacina_fabricante_nome',\n",
              "       'vacina_fabricante_referencia', 'vacina_dataaplicacao',\n",
              "       'vacina_descricao_dose', 'vacina_codigo', 'vacina_nome',\n",
              "       'sistema_origem', 'data_importacao_rnds', 'id_sistema_origem'],\n",
              "      dtype='object')"
            ]
          },
          "metadata": {},
          "execution_count": 13
        }
      ]
    }
  ]
}